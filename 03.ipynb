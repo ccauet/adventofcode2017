{
 "cells": [
  {
   "cell_type": "markdown",
   "metadata": {},
   "source": [
    "# [Day 3](http://adventofcode.com/2017/day/3) \n",
    "\n",
    "## Part 1"
   ]
  },
  {
   "cell_type": "code",
   "execution_count": null,
   "metadata": {},
   "outputs": [],
   "source": [
    "import itertools as it"
   ]
  },
  {
   "cell_type": "code",
   "execution_count": null,
   "metadata": {},
   "outputs": [],
   "source": [
    "target = 312051"
   ]
  },
  {
   "cell_type": "code",
   "execution_count": null,
   "metadata": {},
   "outputs": [],
   "source": [
    "vec = [0, 0, 0, 0]  # right, up, left, down\n",
    "edges = ['right', 'up', 'left', 'down']\n",
    "\n",
    "incr = 1\n",
    "pos = 1\n",
    "reset = 0\n",
    "\n",
    "last_edge = None\n",
    "\n",
    "for idx in it.cycle(range(4)):\n",
    "    \n",
    "    vec[idx] += incr\n",
    "    pos += incr\n",
    "    reset += 1\n",
    "    last_edge = edges[idx]\n",
    "\n",
    "    if reset % 2 == 0:\n",
    "        incr += 1\n",
    "    \n",
    "    # print(idx, pos, vec)\n",
    "    \n",
    "    if pos > target:\n",
    "        break\n",
    "\n",
    "print(f'Last edge: {last_edge}')\n",
    "\n",
    "diff_to_target = pos - target\n",
    "\n",
    "print(f'Diff to target: {diff_to_target}')\n",
    "\n",
    "for idx, edge in enumerate(edges):\n",
    "    if last_edge == edge:\n",
    "        vec[idx] -= diff_to_target\n",
    "\n",
    "left_right = abs(vec[0] - vec[2])\n",
    "up_down = abs(vec[1] - vec[3])\n",
    "\n",
    "print(f'Total l-r diff: {left_right}')\n",
    "print(f'Total u-d diff: {up_down}')\n",
    "print(f'Total distance: {left_right + up_down}')\n",
    "    "
   ]
  },
  {
   "cell_type": "markdown",
   "metadata": {},
   "source": [
    "## Part 2: WIP"
   ]
  },
  {
   "cell_type": "code",
   "execution_count": null,
   "metadata": {},
   "outputs": [],
   "source": []
  }
 ],
 "metadata": {
  "kernelspec": {
   "display_name": "Python 3",
   "language": "python",
   "name": "python3"
  },
  "language_info": {
   "codemirror_mode": {
    "name": "ipython",
    "version": 3
   },
   "file_extension": ".py",
   "mimetype": "text/x-python",
   "name": "python",
   "nbconvert_exporter": "python",
   "pygments_lexer": "ipython3",
   "version": "3.6.3"
  }
 },
 "nbformat": 4,
 "nbformat_minor": 2
}
