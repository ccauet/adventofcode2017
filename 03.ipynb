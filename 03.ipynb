{
 "cells": [
  {
   "cell_type": "markdown",
   "metadata": {},
   "source": [
    "# [Day 3](http://adventofcode.com/2017/day/3) \n",
    "\n",
    "## Part 1"
   ]
  },
  {
   "cell_type": "code",
   "execution_count": null,
   "metadata": {},
   "outputs": [],
   "source": [
    "import numpy as np\n",
    "import itertools as it"
   ]
  },
  {
   "cell_type": "code",
   "execution_count": null,
   "metadata": {},
   "outputs": [],
   "source": [
    "target = 312051"
   ]
  },
  {
   "cell_type": "code",
   "execution_count": null,
   "metadata": {},
   "outputs": [],
   "source": [
    "vec = [0, 0, 0, 0]  # right, up, left, down\n",
    "edges = ['right', 'up', 'left', 'down']\n",
    "\n",
    "incr = 1\n",
    "pos = 1\n",
    "reset = 0\n",
    "\n",
    "last_edge = None\n",
    "\n",
    "for idx in it.cycle(range(4)):\n",
    "    \n",
    "    vec[idx] += incr\n",
    "    pos += incr\n",
    "    reset += 1\n",
    "    last_edge = edges[idx]\n",
    "\n",
    "    if reset % 2 == 0:\n",
    "        incr += 1\n",
    "    \n",
    "    # print(idx, pos, vec)\n",
    "    \n",
    "    if pos > target:\n",
    "        break\n",
    "\n",
    "print(f'Last edge: {last_edge}')\n",
    "\n",
    "diff_to_target = pos - target\n",
    "\n",
    "print(f'Diff to target: {diff_to_target}')\n",
    "\n",
    "for idx, edge in enumerate(edges):\n",
    "    if last_edge == edge:\n",
    "        vec[idx] -= diff_to_target\n",
    "\n",
    "left_right = abs(vec[0] - vec[2])\n",
    "up_down = abs(vec[1] - vec[3])\n",
    "\n",
    "print(f'Total l-r diff: {left_right}')\n",
    "print(f'Total u-d diff: {up_down}')\n",
    "print(f'Total distance: {left_right + up_down}')\n",
    "    "
   ]
  },
  {
   "cell_type": "markdown",
   "metadata": {},
   "source": [
    "## Part 2: WIP"
   ]
  },
  {
   "cell_type": "code",
   "execution_count": null,
   "metadata": {},
   "outputs": [],
   "source": [
    "def cycle():\n",
    "    # edges = ['right', 'up', 'left', 'down']\n",
    "    dirs = [(0, 1), (-1, 0), (0, -1), (1, 0)]  # right, up, left, down\n",
    "\n",
    "    incr = 1\n",
    "    reset = 0\n",
    "    while True:\n",
    "        for d in dirs:\n",
    "            for i in range(0, incr):\n",
    "                yield d\n",
    "            \n",
    "            reset += 1\n",
    "        \n",
    "            if reset % 2 == 0:\n",
    "                incr += 1\n",
    "                reset = 0"
   ]
  },
  {
   "cell_type": "code",
   "execution_count": null,
   "metadata": {},
   "outputs": [],
   "source": [
    "def neighbors(x, y):\n",
    "    return [(x, y - 1),\n",
    "            (x, y + 1),\n",
    "            (x - 1, y - 1),\n",
    "            (x - 1, y),\n",
    "            (x - 1, y + 1),\n",
    "            (x + 1, y - 1),\n",
    "            (x + 1, y),\n",
    "            (x + 1, y + 1)]"
   ]
  },
  {
   "cell_type": "code",
   "execution_count": null,
   "metadata": {},
   "outputs": [],
   "source": [
    "def n_sum(m, x, y):\n",
    "    s = 0\n",
    "    next_neighbors = neighbors(x, y)\n",
    "    for n in next_neighbors:\n",
    "        s += m[n[0], n[1]]\n",
    "    return s"
   ]
  },
  {
   "cell_type": "code",
   "execution_count": null,
   "metadata": {},
   "outputs": [],
   "source": [
    "dim = 13\n",
    "center = int((dim - 1) / 2)\n",
    "x, y = center, center\n",
    "\n",
    "memory = np.zeros((dim, dim))\n",
    "memory[x, y] = 1\n",
    "\n",
    "memory2 = np.zeros((dim, dim))\n",
    "memory2[x, y] = 1\n",
    "\n",
    "pos = 1\n",
    "value = 2\n",
    "for direction in cycle():\n",
    "\n",
    "    x += direction[0]\n",
    "    y += direction[1]\n",
    "    \n",
    "    memory[x, y] = value\n",
    "    value += 1\n",
    "    \n",
    "    sum_of_cell_neighbors = n_sum(memory2, x, y)\n",
    "    memory2[x, y] = sum_of_cell_neighbors\n",
    "    \n",
    "    pos += 1\n",
    "    \n",
    "    if sum_of_cell_neighbors > target:\n",
    "        print(sum_of_cell_neighbors, target)\n",
    "        break\n",
    "memory2"
   ]
  },
  {
   "cell_type": "code",
   "execution_count": null,
   "metadata": {},
   "outputs": [],
   "source": []
  }
 ],
 "metadata": {
  "kernelspec": {
   "display_name": "Python 3",
   "language": "python",
   "name": "python3"
  },
  "language_info": {
   "codemirror_mode": {
    "name": "ipython",
    "version": 3
   },
   "file_extension": ".py",
   "mimetype": "text/x-python",
   "name": "python",
   "nbconvert_exporter": "python",
   "pygments_lexer": "ipython3",
   "version": "3.6.3"
  }
 },
 "nbformat": 4,
 "nbformat_minor": 2
}
